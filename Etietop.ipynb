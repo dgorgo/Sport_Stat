{
 "cells": [
  {
   "cell_type": "markdown",
   "id": "8a8f69a1",
   "metadata": {},
   "source": [
    "###### Import necessary lib"
   ]
  },
  {
   "cell_type": "code",
   "execution_count": 1,
   "id": "86e450b4",
   "metadata": {},
   "outputs": [],
   "source": [
    "import numpy as np\n",
    "import pandas as pd\n",
    "import matplotlib.pyplot as plt\n",
    "import seaborn as sns\n",
    "\n",
    "from scipy import stats\n",
    "import scipy.signal as signal\n",
    "from sklearn.preprocessing import StandardScaler\n",
    "from sklearn.preprocessing import MinMaxScaler\n",
    "\n",
    "\n",
    "from sklearn.model_selection import train_test_split\n",
    "from sklearn.linear_model import LinearRegression\n",
    "from sklearn.metrics import mean_squared_error, mean_absolute_error, r2_score\n",
    "from sklearn.model_selection import train_test_split\n",
    "from sklearn.linear_model import LogisticRegression\n",
    "from sklearn.metrics import accuracy_score\n",
    "\n",
    "\n",
    "\n",
    "from sklearn.ensemble import GradientBoostingClassifier\n",
    "from sklearn.metrics import accuracy_score\n",
    "from sklearn.ensemble import RandomForestClassifier\n",
    "from sklearn.tree import DecisionTreeClassifier\n",
    "from sklearn.ensemble import RandomForestClassifier\n",
    "from sklearn.svm import SVC\n",
    "from sklearn.neighbors import KNeighborsClassifier\n",
    "from sklearn.linear_model import LogisticRegression\n",
    "from sklearn.metrics import accuracy_score, precision_score, recall_score, confusion_matrix\n",
    "from sklearn.model_selection import train_test_split"
   ]
  },
  {
   "cell_type": "code",
   "execution_count": 2,
   "id": "af53791f",
   "metadata": {},
   "outputs": [],
   "source": [
    "sports_df = pd.read_csv('athlete_events.csv')"
   ]
  },
  {
   "cell_type": "code",
   "execution_count": 3,
   "id": "ad43267c",
   "metadata": {},
   "outputs": [
    {
     "data": {
      "text/html": [
       "<div>\n",
       "<style scoped>\n",
       "    .dataframe tbody tr th:only-of-type {\n",
       "        vertical-align: middle;\n",
       "    }\n",
       "\n",
       "    .dataframe tbody tr th {\n",
       "        vertical-align: top;\n",
       "    }\n",
       "\n",
       "    .dataframe thead th {\n",
       "        text-align: right;\n",
       "    }\n",
       "</style>\n",
       "<table border=\"1\" class=\"dataframe\">\n",
       "  <thead>\n",
       "    <tr style=\"text-align: right;\">\n",
       "      <th></th>\n",
       "      <th>ID</th>\n",
       "      <th>Name</th>\n",
       "      <th>Sex</th>\n",
       "      <th>Age</th>\n",
       "      <th>Height</th>\n",
       "      <th>Weight</th>\n",
       "      <th>Team</th>\n",
       "      <th>NOC</th>\n",
       "      <th>Games</th>\n",
       "      <th>Year</th>\n",
       "      <th>Season</th>\n",
       "      <th>City</th>\n",
       "      <th>Sport</th>\n",
       "      <th>Event</th>\n",
       "      <th>Medal</th>\n",
       "    </tr>\n",
       "  </thead>\n",
       "  <tbody>\n",
       "    <tr>\n",
       "      <th>0</th>\n",
       "      <td>1</td>\n",
       "      <td>A Dijiang</td>\n",
       "      <td>M</td>\n",
       "      <td>24.0</td>\n",
       "      <td>180.0</td>\n",
       "      <td>80.0</td>\n",
       "      <td>China</td>\n",
       "      <td>CHN</td>\n",
       "      <td>1992 Summer</td>\n",
       "      <td>1992</td>\n",
       "      <td>Summer</td>\n",
       "      <td>Barcelona</td>\n",
       "      <td>Basketball</td>\n",
       "      <td>Basketball Men's Basketball</td>\n",
       "      <td>NaN</td>\n",
       "    </tr>\n",
       "    <tr>\n",
       "      <th>1</th>\n",
       "      <td>2</td>\n",
       "      <td>A Lamusi</td>\n",
       "      <td>M</td>\n",
       "      <td>23.0</td>\n",
       "      <td>170.0</td>\n",
       "      <td>60.0</td>\n",
       "      <td>China</td>\n",
       "      <td>CHN</td>\n",
       "      <td>2012 Summer</td>\n",
       "      <td>2012</td>\n",
       "      <td>Summer</td>\n",
       "      <td>London</td>\n",
       "      <td>Judo</td>\n",
       "      <td>Judo Men's Extra-Lightweight</td>\n",
       "      <td>NaN</td>\n",
       "    </tr>\n",
       "    <tr>\n",
       "      <th>2</th>\n",
       "      <td>3</td>\n",
       "      <td>Gunnar Nielsen Aaby</td>\n",
       "      <td>M</td>\n",
       "      <td>24.0</td>\n",
       "      <td>NaN</td>\n",
       "      <td>NaN</td>\n",
       "      <td>Denmark</td>\n",
       "      <td>DEN</td>\n",
       "      <td>1920 Summer</td>\n",
       "      <td>1920</td>\n",
       "      <td>Summer</td>\n",
       "      <td>Antwerpen</td>\n",
       "      <td>Football</td>\n",
       "      <td>Football Men's Football</td>\n",
       "      <td>NaN</td>\n",
       "    </tr>\n",
       "    <tr>\n",
       "      <th>3</th>\n",
       "      <td>4</td>\n",
       "      <td>Edgar Lindenau Aabye</td>\n",
       "      <td>M</td>\n",
       "      <td>34.0</td>\n",
       "      <td>NaN</td>\n",
       "      <td>NaN</td>\n",
       "      <td>Denmark/Sweden</td>\n",
       "      <td>DEN</td>\n",
       "      <td>1900 Summer</td>\n",
       "      <td>1900</td>\n",
       "      <td>Summer</td>\n",
       "      <td>Paris</td>\n",
       "      <td>Tug-Of-War</td>\n",
       "      <td>Tug-Of-War Men's Tug-Of-War</td>\n",
       "      <td>Gold</td>\n",
       "    </tr>\n",
       "    <tr>\n",
       "      <th>4</th>\n",
       "      <td>5</td>\n",
       "      <td>Christine Jacoba Aaftink</td>\n",
       "      <td>F</td>\n",
       "      <td>21.0</td>\n",
       "      <td>185.0</td>\n",
       "      <td>82.0</td>\n",
       "      <td>Netherlands</td>\n",
       "      <td>NED</td>\n",
       "      <td>1988 Winter</td>\n",
       "      <td>1988</td>\n",
       "      <td>Winter</td>\n",
       "      <td>Calgary</td>\n",
       "      <td>Speed Skating</td>\n",
       "      <td>Speed Skating Women's 500 metres</td>\n",
       "      <td>NaN</td>\n",
       "    </tr>\n",
       "  </tbody>\n",
       "</table>\n",
       "</div>"
      ],
      "text/plain": [
       "   ID                      Name Sex   Age  Height  Weight            Team  \\\n",
       "0   1                 A Dijiang   M  24.0   180.0    80.0           China   \n",
       "1   2                  A Lamusi   M  23.0   170.0    60.0           China   \n",
       "2   3       Gunnar Nielsen Aaby   M  24.0     NaN     NaN         Denmark   \n",
       "3   4      Edgar Lindenau Aabye   M  34.0     NaN     NaN  Denmark/Sweden   \n",
       "4   5  Christine Jacoba Aaftink   F  21.0   185.0    82.0     Netherlands   \n",
       "\n",
       "   NOC        Games  Year  Season       City          Sport  \\\n",
       "0  CHN  1992 Summer  1992  Summer  Barcelona     Basketball   \n",
       "1  CHN  2012 Summer  2012  Summer     London           Judo   \n",
       "2  DEN  1920 Summer  1920  Summer  Antwerpen       Football   \n",
       "3  DEN  1900 Summer  1900  Summer      Paris     Tug-Of-War   \n",
       "4  NED  1988 Winter  1988  Winter    Calgary  Speed Skating   \n",
       "\n",
       "                              Event Medal  \n",
       "0       Basketball Men's Basketball   NaN  \n",
       "1      Judo Men's Extra-Lightweight   NaN  \n",
       "2           Football Men's Football   NaN  \n",
       "3       Tug-Of-War Men's Tug-Of-War  Gold  \n",
       "4  Speed Skating Women's 500 metres   NaN  "
      ]
     },
     "execution_count": 3,
     "metadata": {},
     "output_type": "execute_result"
    }
   ],
   "source": [
    "sports_df.head()"
   ]
  },
  {
   "cell_type": "code",
   "execution_count": 4,
   "id": "52359deb",
   "metadata": {},
   "outputs": [],
   "source": [
    "noc = pd.read_csv('noc_regions.csv')"
   ]
  },
  {
   "cell_type": "code",
   "execution_count": 5,
   "id": "62fcebea",
   "metadata": {},
   "outputs": [
    {
     "data": {
      "text/html": [
       "<div>\n",
       "<style scoped>\n",
       "    .dataframe tbody tr th:only-of-type {\n",
       "        vertical-align: middle;\n",
       "    }\n",
       "\n",
       "    .dataframe tbody tr th {\n",
       "        vertical-align: top;\n",
       "    }\n",
       "\n",
       "    .dataframe thead th {\n",
       "        text-align: right;\n",
       "    }\n",
       "</style>\n",
       "<table border=\"1\" class=\"dataframe\">\n",
       "  <thead>\n",
       "    <tr style=\"text-align: right;\">\n",
       "      <th></th>\n",
       "      <th>NOC</th>\n",
       "      <th>region</th>\n",
       "      <th>notes</th>\n",
       "    </tr>\n",
       "  </thead>\n",
       "  <tbody>\n",
       "    <tr>\n",
       "      <th>0</th>\n",
       "      <td>AFG</td>\n",
       "      <td>Afghanistan</td>\n",
       "      <td>NaN</td>\n",
       "    </tr>\n",
       "    <tr>\n",
       "      <th>1</th>\n",
       "      <td>AHO</td>\n",
       "      <td>Curacao</td>\n",
       "      <td>Netherlands Antilles</td>\n",
       "    </tr>\n",
       "    <tr>\n",
       "      <th>2</th>\n",
       "      <td>ALB</td>\n",
       "      <td>Albania</td>\n",
       "      <td>NaN</td>\n",
       "    </tr>\n",
       "    <tr>\n",
       "      <th>3</th>\n",
       "      <td>ALG</td>\n",
       "      <td>Algeria</td>\n",
       "      <td>NaN</td>\n",
       "    </tr>\n",
       "    <tr>\n",
       "      <th>4</th>\n",
       "      <td>AND</td>\n",
       "      <td>Andorra</td>\n",
       "      <td>NaN</td>\n",
       "    </tr>\n",
       "  </tbody>\n",
       "</table>\n",
       "</div>"
      ],
      "text/plain": [
       "   NOC       region                 notes\n",
       "0  AFG  Afghanistan                   NaN\n",
       "1  AHO      Curacao  Netherlands Antilles\n",
       "2  ALB      Albania                   NaN\n",
       "3  ALG      Algeria                   NaN\n",
       "4  AND      Andorra                   NaN"
      ]
     },
     "execution_count": 5,
     "metadata": {},
     "output_type": "execute_result"
    }
   ],
   "source": [
    "noc.head()"
   ]
  },
  {
   "cell_type": "markdown",
   "id": "ce0431ba",
   "metadata": {},
   "source": [
    "##### Merging 'region' from noc_df with the main df and then  cleaning"
   ]
  },
  {
   "cell_type": "code",
   "execution_count": 6,
   "id": "2826b1d6",
   "metadata": {},
   "outputs": [],
   "source": [
    "# Merge 'noc' DataFrame with 'sports_df' on the 'NOC' column\n",
    "\n",
    "sports_data = sports_df.merge(noc, on='NOC', how='left')"
   ]
  },
  {
   "cell_type": "code",
   "execution_count": 7,
   "id": "dac14238",
   "metadata": {},
   "outputs": [],
   "source": [
    "# Drop the 'ID' and 'notes' column from 'sports_df'\n",
    "columns_to_drop = ['ID', 'notes']\n",
    "sports_data.drop(columns_to_drop, axis=1, inplace=True)"
   ]
  },
  {
   "cell_type": "code",
   "execution_count": 8,
   "id": "328f6761",
   "metadata": {},
   "outputs": [],
   "source": [
    "# Rename the 'NOC' column to 'country_abbrv'\n",
    "sports_data.rename(columns={'NOC': 'country_abbrv'}, inplace=True)"
   ]
  },
  {
   "cell_type": "code",
   "execution_count": 9,
   "id": "bdaca1d4",
   "metadata": {},
   "outputs": [
    {
     "data": {
      "text/html": [
       "<div>\n",
       "<style scoped>\n",
       "    .dataframe tbody tr th:only-of-type {\n",
       "        vertical-align: middle;\n",
       "    }\n",
       "\n",
       "    .dataframe tbody tr th {\n",
       "        vertical-align: top;\n",
       "    }\n",
       "\n",
       "    .dataframe thead th {\n",
       "        text-align: right;\n",
       "    }\n",
       "</style>\n",
       "<table border=\"1\" class=\"dataframe\">\n",
       "  <thead>\n",
       "    <tr style=\"text-align: right;\">\n",
       "      <th></th>\n",
       "      <th>Name</th>\n",
       "      <th>Sex</th>\n",
       "      <th>Age</th>\n",
       "      <th>Height</th>\n",
       "      <th>Weight</th>\n",
       "      <th>Team</th>\n",
       "      <th>country_abbrv</th>\n",
       "      <th>Games</th>\n",
       "      <th>Year</th>\n",
       "      <th>Season</th>\n",
       "      <th>City</th>\n",
       "      <th>Sport</th>\n",
       "      <th>Event</th>\n",
       "      <th>Medal</th>\n",
       "      <th>region</th>\n",
       "    </tr>\n",
       "  </thead>\n",
       "  <tbody>\n",
       "    <tr>\n",
       "      <th>0</th>\n",
       "      <td>A Dijiang</td>\n",
       "      <td>M</td>\n",
       "      <td>24.0</td>\n",
       "      <td>180.0</td>\n",
       "      <td>80.0</td>\n",
       "      <td>China</td>\n",
       "      <td>CHN</td>\n",
       "      <td>1992 Summer</td>\n",
       "      <td>1992</td>\n",
       "      <td>Summer</td>\n",
       "      <td>Barcelona</td>\n",
       "      <td>Basketball</td>\n",
       "      <td>Basketball Men's Basketball</td>\n",
       "      <td>NaN</td>\n",
       "      <td>China</td>\n",
       "    </tr>\n",
       "    <tr>\n",
       "      <th>1</th>\n",
       "      <td>A Lamusi</td>\n",
       "      <td>M</td>\n",
       "      <td>23.0</td>\n",
       "      <td>170.0</td>\n",
       "      <td>60.0</td>\n",
       "      <td>China</td>\n",
       "      <td>CHN</td>\n",
       "      <td>2012 Summer</td>\n",
       "      <td>2012</td>\n",
       "      <td>Summer</td>\n",
       "      <td>London</td>\n",
       "      <td>Judo</td>\n",
       "      <td>Judo Men's Extra-Lightweight</td>\n",
       "      <td>NaN</td>\n",
       "      <td>China</td>\n",
       "    </tr>\n",
       "    <tr>\n",
       "      <th>2</th>\n",
       "      <td>Gunnar Nielsen Aaby</td>\n",
       "      <td>M</td>\n",
       "      <td>24.0</td>\n",
       "      <td>NaN</td>\n",
       "      <td>NaN</td>\n",
       "      <td>Denmark</td>\n",
       "      <td>DEN</td>\n",
       "      <td>1920 Summer</td>\n",
       "      <td>1920</td>\n",
       "      <td>Summer</td>\n",
       "      <td>Antwerpen</td>\n",
       "      <td>Football</td>\n",
       "      <td>Football Men's Football</td>\n",
       "      <td>NaN</td>\n",
       "      <td>Denmark</td>\n",
       "    </tr>\n",
       "    <tr>\n",
       "      <th>3</th>\n",
       "      <td>Edgar Lindenau Aabye</td>\n",
       "      <td>M</td>\n",
       "      <td>34.0</td>\n",
       "      <td>NaN</td>\n",
       "      <td>NaN</td>\n",
       "      <td>Denmark/Sweden</td>\n",
       "      <td>DEN</td>\n",
       "      <td>1900 Summer</td>\n",
       "      <td>1900</td>\n",
       "      <td>Summer</td>\n",
       "      <td>Paris</td>\n",
       "      <td>Tug-Of-War</td>\n",
       "      <td>Tug-Of-War Men's Tug-Of-War</td>\n",
       "      <td>Gold</td>\n",
       "      <td>Denmark</td>\n",
       "    </tr>\n",
       "    <tr>\n",
       "      <th>4</th>\n",
       "      <td>Christine Jacoba Aaftink</td>\n",
       "      <td>F</td>\n",
       "      <td>21.0</td>\n",
       "      <td>185.0</td>\n",
       "      <td>82.0</td>\n",
       "      <td>Netherlands</td>\n",
       "      <td>NED</td>\n",
       "      <td>1988 Winter</td>\n",
       "      <td>1988</td>\n",
       "      <td>Winter</td>\n",
       "      <td>Calgary</td>\n",
       "      <td>Speed Skating</td>\n",
       "      <td>Speed Skating Women's 500 metres</td>\n",
       "      <td>NaN</td>\n",
       "      <td>Netherlands</td>\n",
       "    </tr>\n",
       "  </tbody>\n",
       "</table>\n",
       "</div>"
      ],
      "text/plain": [
       "                       Name Sex   Age  Height  Weight            Team  \\\n",
       "0                 A Dijiang   M  24.0   180.0    80.0           China   \n",
       "1                  A Lamusi   M  23.0   170.0    60.0           China   \n",
       "2       Gunnar Nielsen Aaby   M  24.0     NaN     NaN         Denmark   \n",
       "3      Edgar Lindenau Aabye   M  34.0     NaN     NaN  Denmark/Sweden   \n",
       "4  Christine Jacoba Aaftink   F  21.0   185.0    82.0     Netherlands   \n",
       "\n",
       "  country_abbrv        Games  Year  Season       City          Sport  \\\n",
       "0           CHN  1992 Summer  1992  Summer  Barcelona     Basketball   \n",
       "1           CHN  2012 Summer  2012  Summer     London           Judo   \n",
       "2           DEN  1920 Summer  1920  Summer  Antwerpen       Football   \n",
       "3           DEN  1900 Summer  1900  Summer      Paris     Tug-Of-War   \n",
       "4           NED  1988 Winter  1988  Winter    Calgary  Speed Skating   \n",
       "\n",
       "                              Event Medal       region  \n",
       "0       Basketball Men's Basketball   NaN        China  \n",
       "1      Judo Men's Extra-Lightweight   NaN        China  \n",
       "2           Football Men's Football   NaN      Denmark  \n",
       "3       Tug-Of-War Men's Tug-Of-War  Gold      Denmark  \n",
       "4  Speed Skating Women's 500 metres   NaN  Netherlands  "
      ]
     },
     "execution_count": 9,
     "metadata": {},
     "output_type": "execute_result"
    }
   ],
   "source": [
    "sports_data.head()"
   ]
  },
  {
   "cell_type": "code",
   "execution_count": 10,
   "id": "daa083a2",
   "metadata": {},
   "outputs": [
    {
     "data": {
      "text/plain": [
       "(271116, 15)"
      ]
     },
     "execution_count": 10,
     "metadata": {},
     "output_type": "execute_result"
    }
   ],
   "source": [
    "sports_data.shape"
   ]
  },
  {
   "cell_type": "code",
   "execution_count": 11,
   "id": "6c5f8f03",
   "metadata": {},
   "outputs": [
    {
     "data": {
      "text/plain": [
       "Name                  0\n",
       "Sex                   0\n",
       "Age                9474\n",
       "Height            60171\n",
       "Weight            62875\n",
       "Team                  0\n",
       "country_abbrv         0\n",
       "Games                 0\n",
       "Year                  0\n",
       "Season                0\n",
       "City                  0\n",
       "Sport                 0\n",
       "Event                 0\n",
       "Medal            231333\n",
       "region              370\n",
       "dtype: int64"
      ]
     },
     "execution_count": 11,
     "metadata": {},
     "output_type": "execute_result"
    }
   ],
   "source": [
    "sports_data.isna().sum()"
   ]
  },
  {
   "cell_type": "code",
   "execution_count": 12,
   "id": "2d79fa77",
   "metadata": {},
   "outputs": [],
   "source": [
    "sport_df = sports_data.copy() "
   ]
  },
  {
   "cell_type": "code",
   "execution_count": 13,
   "id": "e5a67fd2",
   "metadata": {},
   "outputs": [],
   "source": [
    "sport_df['Age'].fillna(sport_df['Age'].mean(), inplace=True)\n",
    "sport_df['Height'].fillna(sport_df['Height'].mean(), inplace=True)\n",
    "sport_df['Weight'].fillna(sport_df['Weight'].mean(), inplace=True)"
   ]
  },
  {
   "cell_type": "code",
   "execution_count": 14,
   "id": "f61bafdf",
   "metadata": {},
   "outputs": [],
   "source": [
    "# turn age to integer\n",
    "# height and weight, we can leave as float \n",
    "\n",
    "sport_df['Age'] = sport_df['Age'].astype(int)"
   ]
  },
  {
   "cell_type": "code",
   "execution_count": 15,
   "id": "7c768bb4",
   "metadata": {},
   "outputs": [],
   "source": [
    "# replace null value in 'medal' with 'No Medal'\n",
    "\n",
    "\n",
    "sport_df['Medal'].fillna('No Medal', inplace=True)"
   ]
  },
  {
   "cell_type": "code",
   "execution_count": 16,
   "id": "637d6f77",
   "metadata": {},
   "outputs": [],
   "source": [
    "# Format the 'Height' and 'Weight' columns to two decimal points\n",
    "sport_df['Height'] = sport_df['Height'].round(2)\n",
    "sport_df['Weight'] = sport_df['Weight'].round(2)"
   ]
  },
  {
   "cell_type": "code",
   "execution_count": 17,
   "id": "6237fefa",
   "metadata": {},
   "outputs": [
    {
     "data": {
      "text/html": [
       "<div>\n",
       "<style scoped>\n",
       "    .dataframe tbody tr th:only-of-type {\n",
       "        vertical-align: middle;\n",
       "    }\n",
       "\n",
       "    .dataframe tbody tr th {\n",
       "        vertical-align: top;\n",
       "    }\n",
       "\n",
       "    .dataframe thead th {\n",
       "        text-align: right;\n",
       "    }\n",
       "</style>\n",
       "<table border=\"1\" class=\"dataframe\">\n",
       "  <thead>\n",
       "    <tr style=\"text-align: right;\">\n",
       "      <th></th>\n",
       "      <th>Name</th>\n",
       "      <th>Sex</th>\n",
       "      <th>Age</th>\n",
       "      <th>Height</th>\n",
       "      <th>Weight</th>\n",
       "      <th>Team</th>\n",
       "      <th>country_abbrv</th>\n",
       "      <th>Games</th>\n",
       "      <th>Year</th>\n",
       "      <th>Season</th>\n",
       "      <th>City</th>\n",
       "      <th>Sport</th>\n",
       "      <th>Event</th>\n",
       "      <th>Medal</th>\n",
       "      <th>region</th>\n",
       "    </tr>\n",
       "  </thead>\n",
       "  <tbody>\n",
       "    <tr>\n",
       "      <th>0</th>\n",
       "      <td>A Dijiang</td>\n",
       "      <td>M</td>\n",
       "      <td>24</td>\n",
       "      <td>180.00</td>\n",
       "      <td>80.0</td>\n",
       "      <td>China</td>\n",
       "      <td>CHN</td>\n",
       "      <td>1992 Summer</td>\n",
       "      <td>1992</td>\n",
       "      <td>Summer</td>\n",
       "      <td>Barcelona</td>\n",
       "      <td>Basketball</td>\n",
       "      <td>Basketball Men's Basketball</td>\n",
       "      <td>No Medal</td>\n",
       "      <td>China</td>\n",
       "    </tr>\n",
       "    <tr>\n",
       "      <th>1</th>\n",
       "      <td>A Lamusi</td>\n",
       "      <td>M</td>\n",
       "      <td>23</td>\n",
       "      <td>170.00</td>\n",
       "      <td>60.0</td>\n",
       "      <td>China</td>\n",
       "      <td>CHN</td>\n",
       "      <td>2012 Summer</td>\n",
       "      <td>2012</td>\n",
       "      <td>Summer</td>\n",
       "      <td>London</td>\n",
       "      <td>Judo</td>\n",
       "      <td>Judo Men's Extra-Lightweight</td>\n",
       "      <td>No Medal</td>\n",
       "      <td>China</td>\n",
       "    </tr>\n",
       "    <tr>\n",
       "      <th>2</th>\n",
       "      <td>Gunnar Nielsen Aaby</td>\n",
       "      <td>M</td>\n",
       "      <td>24</td>\n",
       "      <td>175.34</td>\n",
       "      <td>70.7</td>\n",
       "      <td>Denmark</td>\n",
       "      <td>DEN</td>\n",
       "      <td>1920 Summer</td>\n",
       "      <td>1920</td>\n",
       "      <td>Summer</td>\n",
       "      <td>Antwerpen</td>\n",
       "      <td>Football</td>\n",
       "      <td>Football Men's Football</td>\n",
       "      <td>No Medal</td>\n",
       "      <td>Denmark</td>\n",
       "    </tr>\n",
       "    <tr>\n",
       "      <th>3</th>\n",
       "      <td>Edgar Lindenau Aabye</td>\n",
       "      <td>M</td>\n",
       "      <td>34</td>\n",
       "      <td>175.34</td>\n",
       "      <td>70.7</td>\n",
       "      <td>Denmark/Sweden</td>\n",
       "      <td>DEN</td>\n",
       "      <td>1900 Summer</td>\n",
       "      <td>1900</td>\n",
       "      <td>Summer</td>\n",
       "      <td>Paris</td>\n",
       "      <td>Tug-Of-War</td>\n",
       "      <td>Tug-Of-War Men's Tug-Of-War</td>\n",
       "      <td>Gold</td>\n",
       "      <td>Denmark</td>\n",
       "    </tr>\n",
       "    <tr>\n",
       "      <th>4</th>\n",
       "      <td>Christine Jacoba Aaftink</td>\n",
       "      <td>F</td>\n",
       "      <td>21</td>\n",
       "      <td>185.00</td>\n",
       "      <td>82.0</td>\n",
       "      <td>Netherlands</td>\n",
       "      <td>NED</td>\n",
       "      <td>1988 Winter</td>\n",
       "      <td>1988</td>\n",
       "      <td>Winter</td>\n",
       "      <td>Calgary</td>\n",
       "      <td>Speed Skating</td>\n",
       "      <td>Speed Skating Women's 500 metres</td>\n",
       "      <td>No Medal</td>\n",
       "      <td>Netherlands</td>\n",
       "    </tr>\n",
       "  </tbody>\n",
       "</table>\n",
       "</div>"
      ],
      "text/plain": [
       "                       Name Sex  Age  Height  Weight            Team  \\\n",
       "0                 A Dijiang   M   24  180.00    80.0           China   \n",
       "1                  A Lamusi   M   23  170.00    60.0           China   \n",
       "2       Gunnar Nielsen Aaby   M   24  175.34    70.7         Denmark   \n",
       "3      Edgar Lindenau Aabye   M   34  175.34    70.7  Denmark/Sweden   \n",
       "4  Christine Jacoba Aaftink   F   21  185.00    82.0     Netherlands   \n",
       "\n",
       "  country_abbrv        Games  Year  Season       City          Sport  \\\n",
       "0           CHN  1992 Summer  1992  Summer  Barcelona     Basketball   \n",
       "1           CHN  2012 Summer  2012  Summer     London           Judo   \n",
       "2           DEN  1920 Summer  1920  Summer  Antwerpen       Football   \n",
       "3           DEN  1900 Summer  1900  Summer      Paris     Tug-Of-War   \n",
       "4           NED  1988 Winter  1988  Winter    Calgary  Speed Skating   \n",
       "\n",
       "                              Event     Medal       region  \n",
       "0       Basketball Men's Basketball  No Medal        China  \n",
       "1      Judo Men's Extra-Lightweight  No Medal        China  \n",
       "2           Football Men's Football  No Medal      Denmark  \n",
       "3       Tug-Of-War Men's Tug-Of-War      Gold      Denmark  \n",
       "4  Speed Skating Women's 500 metres  No Medal  Netherlands  "
      ]
     },
     "execution_count": 17,
     "metadata": {},
     "output_type": "execute_result"
    }
   ],
   "source": [
    "sport_df.head()"
   ]
  },
  {
   "cell_type": "code",
   "execution_count": 18,
   "id": "d7dfa11c",
   "metadata": {},
   "outputs": [
    {
     "data": {
      "text/plain": [
       "Name               0\n",
       "Sex                0\n",
       "Age                0\n",
       "Height             0\n",
       "Weight             0\n",
       "Team               0\n",
       "country_abbrv      0\n",
       "Games              0\n",
       "Year               0\n",
       "Season             0\n",
       "City               0\n",
       "Sport              0\n",
       "Event              0\n",
       "Medal              0\n",
       "region           370\n",
       "dtype: int64"
      ]
     },
     "execution_count": 18,
     "metadata": {},
     "output_type": "execute_result"
    }
   ],
   "source": [
    "sport_df.isna().sum()"
   ]
  },
  {
   "cell_type": "code",
   "execution_count": 19,
   "id": "239a11cc",
   "metadata": {},
   "outputs": [],
   "source": [
    "sport_df.dropna(inplace=True)"
   ]
  },
  {
   "cell_type": "code",
   "execution_count": 20,
   "id": "c7a88574",
   "metadata": {},
   "outputs": [],
   "source": [
    "#countries with most medals\n",
    "#sports with most medals\n",
    "\n",
    "# Filter out rows where Medal is not available\n",
    "medal_data = sport_df[sport_df['Medal'] != 'No Medal']"
   ]
  },
  {
   "cell_type": "code",
   "execution_count": 21,
   "id": "a31ceca0",
   "metadata": {},
   "outputs": [],
   "source": [
    "# Group the data by country and count the occurrences\n",
    "country_medal_counts = medal_data.groupby('region').size().sort_values(ascending=False)"
   ]
  },
  {
   "cell_type": "code",
   "execution_count": 22,
   "id": "4d55dbd6",
   "metadata": {},
   "outputs": [],
   "source": [
    "# Select the top 10 countries with the most medals\n",
    "top_countries = country_medal_counts.head(10)"
   ]
  },
  {
   "cell_type": "code",
   "execution_count": 23,
   "id": "306b30ec",
   "metadata": {},
   "outputs": [
    {
     "data": {
      "image/png": "[encoded data removed]",
      "text/plain": [
       "<Figure size 640x480 with 1 Axes>"
      ]
     },
     "metadata": {},
     "output_type": "display_data"
    }
   ],
   "source": [
    "# Plot the chart\n",
    "fig, ax = plt.subplots()\n",
    "top_countries.plot(kind='bar', ax=ax)\n",
    "ax.set_xlabel('Country')\n",
    "ax.set_ylabel('Medal Count')\n",
    "ax.set_title('Medal Count by Country (Top 10)')\n",
    "plt.xticks(rotation=45)\n",
    "plt.show()"
   ]
  },
  {
   "cell_type": "code",
   "execution_count": 24,
   "id": "31734bb6",
   "metadata": {},
   "outputs": [],
   "source": [
    "# Group the data by country and medal type, and count the occurrences\n",
    "country_medal_counts = medal_data.groupby(['region', 'Medal']).size().unstack(fill_value=0)\n"
   ]
  },
  {
   "cell_type": "code",
   "execution_count": 25,
   "id": "ff873c45",
   "metadata": {},
   "outputs": [],
   "source": [
    "# Select the top 10 countries with the most medals\n",
    "top_countries = country_medal_counts.sum(axis=1).sort_values(ascending=False).head(10)"
   ]
  },
  {
   "cell_type": "code",
   "execution_count": 26,
   "id": "7edaeeae",
   "metadata": {},
   "outputs": [
    {
     "data": {
      "image/png": "[encoded data removed]",
      "text/plain": [
       "<Figure size 640x480 with 1 Axes>"
      ]
     },
     "metadata": {},
     "output_type": "display_data"
    }
   ],
   "source": [
    "# Group the data by athlete and medal type, and count the occurrences\n",
    "athlete_medal_counts = medal_data.groupby(['Name', 'Medal']).size().unstack(fill_value=0)\n",
    "\n",
    "# Sort the athletes based on the total number of medals (gold, silver, and bronze)\n",
    "athlete_medal_counts['Total Medals'] = athlete_medal_counts.sum(axis=1)\n",
    "athlete_medal_counts = athlete_medal_counts.sort_values('Total Medals', ascending=False)\n",
    "\n",
    "# Select the top 10 athletes with the most medals\n",
    "top_athletes = athlete_medal_counts.head(10)\n",
    "\n",
    "# Plot the chart\n",
    "fig, ax = plt.subplots()\n",
    "top_athletes[['Gold', 'Silver', 'Bronze']].plot(kind='bar', stacked=True, ax=ax)\n",
    "ax.set_xlabel('Athlete')\n",
    "ax.set_ylabel('Medal Count')\n",
    "ax.set_title('Medal Count by Athlete (Top 10)')\n",
    "plt.xticks(rotation=45)\n",
    "plt.legend(loc='upper right')\n",
    "plt.show()"
   ]
  },
  {
   "cell_type": "code",
   "execution_count": 27,
   "id": "9a33f8ea",
   "metadata": {},
   "outputs": [
    {
     "data": {
      "image/png": "[encoded data removed]",
      "text/plain": [
       "<Figure size 640x480 with 1 Axes>"
      ]
     },
     "metadata": {},
     "output_type": "display_data"
    }
   ],
   "source": [
    "athlete_medal_counts = medal_data.groupby(['region', 'Medal']).size().unstack(fill_value=0)\n",
    "\n",
    "# Sort the athletes based on the total number of medals (gold, silver, and bronze)\n",
    "athlete_medal_counts['Total Medals'] = athlete_medal_counts.sum(axis=1)\n",
    "athlete_medal_counts = athlete_medal_counts.sort_values('Total Medals', ascending=False)\n",
    "\n",
    "# Select the top 10 athletes with the most medals\n",
    "top_athletes = athlete_medal_counts.head(10)\n",
    "\n",
    "# Plot the chart\n",
    "fig, ax = plt.subplots()\n",
    "top_athletes[['Gold', 'Silver', 'Bronze']].plot(kind='bar', stacked=True, ax=ax)\n",
    "ax.set_xlabel('Country')\n",
    "ax.set_ylabel('Medal Count')\n",
    "ax.set_title('Medal Count by Country (Top 10)')\n",
    "plt.xticks(rotation=45)\n",
    "plt.legend(loc='upper right')\n",
    "plt.show()"
   ]
  },
  {
   "cell_type": "code",
   "execution_count": 28,
   "id": "25bf5e91",
   "metadata": {},
   "outputs": [
    {
     "data": {
      "image/png": "[encoded data removed]",
      "text/plain": [
       "<Figure size 640x480 with 1 Axes>"
      ]
     },
     "metadata": {},
     "output_type": "display_data"
    }
   ],
   "source": [
    "sport_medal_counts = medal_data.groupby(['Sport', 'Medal']).size().unstack(fill_value=0)\n",
    "\n",
    "# Sort the athletes based on the total number of medals (gold, silver, and bronze)\n",
    "sport_medal_counts['Total Medals'] = athlete_medal_counts.sum(axis=1)\n",
    "sport_medal_counts = athlete_medal_counts.sort_values('Total Medals', ascending=False)\n",
    "\n",
    "# Select the top 10 athletes with the most medals\n",
    "top_athletes = athlete_medal_counts.head(10)\n",
    "\n",
    "# Plot the chart\n",
    "fig, ax = plt.subplots()\n",
    "top_athletes[['Gold', 'Silver', 'Bronze']].plot(kind='bar', stacked=True, ax=ax)\n",
    "ax.set_xlabel('Sport')\n",
    "ax.set_ylabel('Medal Count')\n",
    "ax.set_title('Medal Count by Sport (Top 10)')\n",
    "plt.xticks(rotation=45)\n",
    "plt.legend(loc='upper right')\n",
    "plt.show()"
   ]
  },
  {
   "cell_type": "code",
   "execution_count": 29,
   "id": "7ab1751a",
   "metadata": {},
   "outputs": [
    {
     "name": "stdout",
     "output_type": "stream",
     "text": [
      "                Country                     Gold Sport  \\\n",
      "0           Afghanistan       (Afghanistan, Taekwondo)   \n",
      "1               Algeria           (Algeria, Athletics)   \n",
      "2             Argentina          (Argentina, Football)   \n",
      "3               Armenia           (Armenia, Wrestling)   \n",
      "4             Australia          (Australia, Swimming)   \n",
      "..                  ...                            ...   \n",
      "131           Venezuela            (Venezuela, Boxing)   \n",
      "132             Vietnam            (Vietnam, Shooting)   \n",
      "133  Virgin Islands, US  (Virgin Islands, US, Sailing)   \n",
      "134              Zambia            (Zambia, Athletics)   \n",
      "135            Zimbabwe             (Zimbabwe, Hockey)   \n",
      "\n",
      "                      Silver Sport                   Bronze Sport  \n",
      "0         (Afghanistan, Taekwondo)       (Afghanistan, Taekwondo)  \n",
      "1             (Algeria, Athletics)              (Algeria, Boxing)  \n",
      "2            (Argentina, Football)            (Argentina, Hockey)  \n",
      "3             (Armenia, Wrestling)       (Armenia, Weightlifting)  \n",
      "4            (Australia, Swimming)          (Australia, Swimming)  \n",
      "..                             ...                            ...  \n",
      "131            (Venezuela, Boxing)            (Venezuela, Boxing)  \n",
      "132            (Vietnam, Shooting)            (Vietnam, Shooting)  \n",
      "133  (Virgin Islands, US, Sailing)  (Virgin Islands, US, Sailing)  \n",
      "134            (Zambia, Athletics)               (Zambia, Boxing)  \n",
      "135           (Zimbabwe, Swimming)           (Zimbabwe, Swimming)  \n",
      "\n",
      "[136 rows x 4 columns]\n"
     ]
    }
   ],
   "source": [
    "#check percentage of GOld, Sliver and bronze by sports\n",
    "# what country wins most gold sliver and bronze at what sports\n",
    "\n",
    "\n",
    "# Group the data by country, sport, and medal type, and count the occurrences\n",
    "country_sport_medal_counts = medal_data.groupby(['region', 'Sport', 'Medal']).size().unstack(fill_value=0)\n",
    "\n",
    "# Find the sport with the most gold, silver, and bronze medals for each country\n",
    "country_most_medals = country_sport_medal_counts.groupby('region').idxmax()\n",
    "\n",
    "# Extract the country, sport, and medal type for each maximum count\n",
    "country_most_gold = country_most_medals['Gold']\n",
    "country_most_silver = country_most_medals['Silver']\n",
    "country_most_bronze = country_most_medals['Bronze']\n",
    "\n",
    "# Create a DataFrame to store the results\n",
    "results = pd.DataFrame({\n",
    "    'Country': country_most_gold.index,\n",
    "    'Gold Sport': country_most_gold.values,\n",
    "    'Silver Sport': country_most_silver.values,\n",
    "    'Bronze Sport': country_most_bronze.values\n",
    "})\n",
    "\n",
    "# Print the results\n",
    "print(results)"
   ]
  },
  {
   "cell_type": "code",
   "execution_count": 30,
   "id": "01a60274",
   "metadata": {},
   "outputs": [
    {
     "data": {
      "text/html": [
       "<div>\n",
       "<style scoped>\n",
       "    .dataframe tbody tr th:only-of-type {\n",
       "        vertical-align: middle;\n",
       "    }\n",
       "\n",
       "    .dataframe tbody tr th {\n",
       "        vertical-align: top;\n",
       "    }\n",
       "\n",
       "    .dataframe thead th {\n",
       "        text-align: right;\n",
       "    }\n",
       "</style>\n",
       "<table border=\"1\" class=\"dataframe\">\n",
       "  <thead>\n",
       "    <tr style=\"text-align: right;\">\n",
       "      <th></th>\n",
       "      <th>Country</th>\n",
       "      <th>Gold Sport</th>\n",
       "      <th>Silver Sport</th>\n",
       "      <th>Bronze Sport</th>\n",
       "    </tr>\n",
       "  </thead>\n",
       "  <tbody>\n",
       "    <tr>\n",
       "      <th>0</th>\n",
       "      <td>Afghanistan</td>\n",
       "      <td>(Afghanistan, Taekwondo)</td>\n",
       "      <td>(Afghanistan, Taekwondo)</td>\n",
       "      <td>(Afghanistan, Taekwondo)</td>\n",
       "    </tr>\n",
       "    <tr>\n",
       "      <th>1</th>\n",
       "      <td>Algeria</td>\n",
       "      <td>(Algeria, Athletics)</td>\n",
       "      <td>(Algeria, Athletics)</td>\n",
       "      <td>(Algeria, Boxing)</td>\n",
       "    </tr>\n",
       "    <tr>\n",
       "      <th>2</th>\n",
       "      <td>Argentina</td>\n",
       "      <td>(Argentina, Football)</td>\n",
       "      <td>(Argentina, Football)</td>\n",
       "      <td>(Argentina, Hockey)</td>\n",
       "    </tr>\n",
       "    <tr>\n",
       "      <th>3</th>\n",
       "      <td>Armenia</td>\n",
       "      <td>(Armenia, Wrestling)</td>\n",
       "      <td>(Armenia, Wrestling)</td>\n",
       "      <td>(Armenia, Weightlifting)</td>\n",
       "    </tr>\n",
       "    <tr>\n",
       "      <th>4</th>\n",
       "      <td>Australia</td>\n",
       "      <td>(Australia, Swimming)</td>\n",
       "      <td>(Australia, Swimming)</td>\n",
       "      <td>(Australia, Swimming)</td>\n",
       "    </tr>\n",
       "    <tr>\n",
       "      <th>...</th>\n",
       "      <td>...</td>\n",
       "      <td>...</td>\n",
       "      <td>...</td>\n",
       "      <td>...</td>\n",
       "    </tr>\n",
       "    <tr>\n",
       "      <th>131</th>\n",
       "      <td>Venezuela</td>\n",
       "      <td>(Venezuela, Boxing)</td>\n",
       "      <td>(Venezuela, Boxing)</td>\n",
       "      <td>(Venezuela, Boxing)</td>\n",
       "    </tr>\n",
       "    <tr>\n",
       "      <th>132</th>\n",
       "      <td>Vietnam</td>\n",
       "      <td>(Vietnam, Shooting)</td>\n",
       "      <td>(Vietnam, Shooting)</td>\n",
       "      <td>(Vietnam, Shooting)</td>\n",
       "    </tr>\n",
       "    <tr>\n",
       "      <th>133</th>\n",
       "      <td>Virgin Islands, US</td>\n",
       "      <td>(Virgin Islands, US, Sailing)</td>\n",
       "      <td>(Virgin Islands, US, Sailing)</td>\n",
       "      <td>(Virgin Islands, US, Sailing)</td>\n",
       "    </tr>\n",
       "    <tr>\n",
       "      <th>134</th>\n",
       "      <td>Zambia</td>\n",
       "      <td>(Zambia, Athletics)</td>\n",
       "      <td>(Zambia, Athletics)</td>\n",
       "      <td>(Zambia, Boxing)</td>\n",
       "    </tr>\n",
       "    <tr>\n",
       "      <th>135</th>\n",
       "      <td>Zimbabwe</td>\n",
       "      <td>(Zimbabwe, Hockey)</td>\n",
       "      <td>(Zimbabwe, Swimming)</td>\n",
       "      <td>(Zimbabwe, Swimming)</td>\n",
       "    </tr>\n",
       "  </tbody>\n",
       "</table>\n",
       "<p>136 rows × 4 columns</p>\n",
       "</div>"
      ],
      "text/plain": [
       "                Country                     Gold Sport  \\\n",
       "0           Afghanistan       (Afghanistan, Taekwondo)   \n",
       "1               Algeria           (Algeria, Athletics)   \n",
       "2             Argentina          (Argentina, Football)   \n",
       "3               Armenia           (Armenia, Wrestling)   \n",
       "4             Australia          (Australia, Swimming)   \n",
       "..                  ...                            ...   \n",
       "131           Venezuela            (Venezuela, Boxing)   \n",
       "132             Vietnam            (Vietnam, Shooting)   \n",
       "133  Virgin Islands, US  (Virgin Islands, US, Sailing)   \n",
       "134              Zambia            (Zambia, Athletics)   \n",
       "135            Zimbabwe             (Zimbabwe, Hockey)   \n",
       "\n",
       "                      Silver Sport                   Bronze Sport  \n",
       "0         (Afghanistan, Taekwondo)       (Afghanistan, Taekwondo)  \n",
       "1             (Algeria, Athletics)              (Algeria, Boxing)  \n",
       "2            (Argentina, Football)            (Argentina, Hockey)  \n",
       "3             (Armenia, Wrestling)       (Armenia, Weightlifting)  \n",
       "4            (Australia, Swimming)          (Australia, Swimming)  \n",
       "..                             ...                            ...  \n",
       "131            (Venezuela, Boxing)            (Venezuela, Boxing)  \n",
       "132            (Vietnam, Shooting)            (Vietnam, Shooting)  \n",
       "133  (Virgin Islands, US, Sailing)  (Virgin Islands, US, Sailing)  \n",
       "134            (Zambia, Athletics)               (Zambia, Boxing)  \n",
       "135           (Zimbabwe, Swimming)           (Zimbabwe, Swimming)  \n",
       "\n",
       "[136 rows x 4 columns]"
      ]
     },
     "execution_count": 30,
     "metadata": {},
     "output_type": "execute_result"
    }
   ],
   "source": [
    "results"
   ]
  },
  {
   "cell_type": "code",
   "execution_count": 31,
   "id": "aacc9d34",
   "metadata": {},
   "outputs": [],
   "source": [
    "sport_df_copy = sport_df.copy()"
   ]
  },
  {
   "cell_type": "code",
   "execution_count": 32,
   "id": "f4df5ea7",
   "metadata": {},
   "outputs": [],
   "source": [
    "# Defining BMI(Body Mass Index)\n",
    "\n",
    "\n",
    "sport_df_copy['BMI'] = sport_df_copy['Weight']/sport_df_copy['Height']"
   ]
  },
  {
   "cell_type": "code",
   "execution_count": 33,
   "id": "a4115305",
   "metadata": {},
   "outputs": [],
   "source": [
    "# We need to encode our target\n",
    "\n",
    "target_mapping = {'Gold': 1, 'Silver': 2, 'Bronze': 3, 'No Medal': 0}\n",
    "sport_df_copy['Medal'] = sport_df_copy['Medal'].map(target_mapping)"
   ]
  },
  {
   "cell_type": "code",
   "execution_count": 34,
   "id": "691bafff",
   "metadata": {},
   "outputs": [
    {
     "data": {
      "text/html": [
       "<div>\n",
       "<style scoped>\n",
       "    .dataframe tbody tr th:only-of-type {\n",
       "        vertical-align: middle;\n",
       "    }\n",
       "\n",
       "    .dataframe tbody tr th {\n",
       "        vertical-align: top;\n",
       "    }\n",
       "\n",
       "    .dataframe thead th {\n",
       "        text-align: right;\n",
       "    }\n",
       "</style>\n",
       "<table border=\"1\" class=\"dataframe\">\n",
       "  <thead>\n",
       "    <tr style=\"text-align: right;\">\n",
       "      <th></th>\n",
       "      <th>Name</th>\n",
       "      <th>Sex</th>\n",
       "      <th>Age</th>\n",
       "      <th>Height</th>\n",
       "      <th>Weight</th>\n",
       "      <th>Team</th>\n",
       "      <th>country_abbrv</th>\n",
       "      <th>Games</th>\n",
       "      <th>Year</th>\n",
       "      <th>Season</th>\n",
       "      <th>City</th>\n",
       "      <th>Sport</th>\n",
       "      <th>Event</th>\n",
       "      <th>Medal</th>\n",
       "      <th>region</th>\n",
       "      <th>BMI</th>\n",
       "    </tr>\n",
       "  </thead>\n",
       "  <tbody>\n",
       "    <tr>\n",
       "      <th>0</th>\n",
       "      <td>A Dijiang</td>\n",
       "      <td>M</td>\n",
       "      <td>24</td>\n",
       "      <td>180.00</td>\n",
       "      <td>80.0</td>\n",
       "      <td>China</td>\n",
       "      <td>CHN</td>\n",
       "      <td>1992 Summer</td>\n",
       "      <td>1992</td>\n",
       "      <td>Summer</td>\n",
       "      <td>Barcelona</td>\n",
       "      <td>Basketball</td>\n",
       "      <td>Basketball Men's Basketball</td>\n",
       "      <td>0</td>\n",
       "      <td>China</td>\n",
       "      <td>0.444444</td>\n",
       "    </tr>\n",
       "    <tr>\n",
       "      <th>1</th>\n",
       "      <td>A Lamusi</td>\n",
       "      <td>M</td>\n",
       "      <td>23</td>\n",
       "      <td>170.00</td>\n",
       "      <td>60.0</td>\n",
       "      <td>China</td>\n",
       "      <td>CHN</td>\n",
       "      <td>2012 Summer</td>\n",
       "      <td>2012</td>\n",
       "      <td>Summer</td>\n",
       "      <td>London</td>\n",
       "      <td>Judo</td>\n",
       "      <td>Judo Men's Extra-Lightweight</td>\n",
       "      <td>0</td>\n",
       "      <td>China</td>\n",
       "      <td>0.352941</td>\n",
       "    </tr>\n",
       "    <tr>\n",
       "      <th>2</th>\n",
       "      <td>Gunnar Nielsen Aaby</td>\n",
       "      <td>M</td>\n",
       "      <td>24</td>\n",
       "      <td>175.34</td>\n",
       "      <td>70.7</td>\n",
       "      <td>Denmark</td>\n",
       "      <td>DEN</td>\n",
       "      <td>1920 Summer</td>\n",
       "      <td>1920</td>\n",
       "      <td>Summer</td>\n",
       "      <td>Antwerpen</td>\n",
       "      <td>Football</td>\n",
       "      <td>Football Men's Football</td>\n",
       "      <td>0</td>\n",
       "      <td>Denmark</td>\n",
       "      <td>0.403217</td>\n",
       "    </tr>\n",
       "    <tr>\n",
       "      <th>3</th>\n",
       "      <td>Edgar Lindenau Aabye</td>\n",
       "      <td>M</td>\n",
       "      <td>34</td>\n",
       "      <td>175.34</td>\n",
       "      <td>70.7</td>\n",
       "      <td>Denmark/Sweden</td>\n",
       "      <td>DEN</td>\n",
       "      <td>1900 Summer</td>\n",
       "      <td>1900</td>\n",
       "      <td>Summer</td>\n",
       "      <td>Paris</td>\n",
       "      <td>Tug-Of-War</td>\n",
       "      <td>Tug-Of-War Men's Tug-Of-War</td>\n",
       "      <td>1</td>\n",
       "      <td>Denmark</td>\n",
       "      <td>0.403217</td>\n",
       "    </tr>\n",
       "    <tr>\n",
       "      <th>4</th>\n",
       "      <td>Christine Jacoba Aaftink</td>\n",
       "      <td>F</td>\n",
       "      <td>21</td>\n",
       "      <td>185.00</td>\n",
       "      <td>82.0</td>\n",
       "      <td>Netherlands</td>\n",
       "      <td>NED</td>\n",
       "      <td>1988 Winter</td>\n",
       "      <td>1988</td>\n",
       "      <td>Winter</td>\n",
       "      <td>Calgary</td>\n",
       "      <td>Speed Skating</td>\n",
       "      <td>Speed Skating Women's 500 metres</td>\n",
       "      <td>0</td>\n",
       "      <td>Netherlands</td>\n",
       "      <td>0.443243</td>\n",
       "    </tr>\n",
       "    <tr>\n",
       "      <th>...</th>\n",
       "      <td>...</td>\n",
       "      <td>...</td>\n",
       "      <td>...</td>\n",
       "      <td>...</td>\n",
       "      <td>...</td>\n",
       "      <td>...</td>\n",
       "      <td>...</td>\n",
       "      <td>...</td>\n",
       "      <td>...</td>\n",
       "      <td>...</td>\n",
       "      <td>...</td>\n",
       "      <td>...</td>\n",
       "      <td>...</td>\n",
       "      <td>...</td>\n",
       "      <td>...</td>\n",
       "      <td>...</td>\n",
       "    </tr>\n",
       "    <tr>\n",
       "      <th>271111</th>\n",
       "      <td>Andrzej ya</td>\n",
       "      <td>M</td>\n",
       "      <td>29</td>\n",
       "      <td>179.00</td>\n",
       "      <td>89.0</td>\n",
       "      <td>Poland-1</td>\n",
       "      <td>POL</td>\n",
       "      <td>1976 Winter</td>\n",
       "      <td>1976</td>\n",
       "      <td>Winter</td>\n",
       "      <td>Innsbruck</td>\n",
       "      <td>Luge</td>\n",
       "      <td>Luge Mixed (Men)'s Doubles</td>\n",
       "      <td>0</td>\n",
       "      <td>Poland</td>\n",
       "      <td>0.497207</td>\n",
       "    </tr>\n",
       "    <tr>\n",
       "      <th>271112</th>\n",
       "      <td>Piotr ya</td>\n",
       "      <td>M</td>\n",
       "      <td>27</td>\n",
       "      <td>176.00</td>\n",
       "      <td>59.0</td>\n",
       "      <td>Poland</td>\n",
       "      <td>POL</td>\n",
       "      <td>2014 Winter</td>\n",
       "      <td>2014</td>\n",
       "      <td>Winter</td>\n",
       "      <td>Sochi</td>\n",
       "      <td>Ski Jumping</td>\n",
       "      <td>Ski Jumping Men's Large Hill, Individual</td>\n",
       "      <td>0</td>\n",
       "      <td>Poland</td>\n",
       "      <td>0.335227</td>\n",
       "    </tr>\n",
       "    <tr>\n",
       "      <th>271113</th>\n",
       "      <td>Piotr ya</td>\n",
       "      <td>M</td>\n",
       "      <td>27</td>\n",
       "      <td>176.00</td>\n",
       "      <td>59.0</td>\n",
       "      <td>Poland</td>\n",
       "      <td>POL</td>\n",
       "      <td>2014 Winter</td>\n",
       "      <td>2014</td>\n",
       "      <td>Winter</td>\n",
       "      <td>Sochi</td>\n",
       "      <td>Ski Jumping</td>\n",
       "      <td>Ski Jumping Men's Large Hill, Team</td>\n",
       "      <td>0</td>\n",
       "      <td>Poland</td>\n",
       "      <td>0.335227</td>\n",
       "    </tr>\n",
       "    <tr>\n",
       "      <th>271114</th>\n",
       "      <td>Tomasz Ireneusz ya</td>\n",
       "      <td>M</td>\n",
       "      <td>30</td>\n",
       "      <td>185.00</td>\n",
       "      <td>96.0</td>\n",
       "      <td>Poland</td>\n",
       "      <td>POL</td>\n",
       "      <td>1998 Winter</td>\n",
       "      <td>1998</td>\n",
       "      <td>Winter</td>\n",
       "      <td>Nagano</td>\n",
       "      <td>Bobsleigh</td>\n",
       "      <td>Bobsleigh Men's Four</td>\n",
       "      <td>0</td>\n",
       "      <td>Poland</td>\n",
       "      <td>0.518919</td>\n",
       "    </tr>\n",
       "    <tr>\n",
       "      <th>271115</th>\n",
       "      <td>Tomasz Ireneusz ya</td>\n",
       "      <td>M</td>\n",
       "      <td>34</td>\n",
       "      <td>185.00</td>\n",
       "      <td>96.0</td>\n",
       "      <td>Poland</td>\n",
       "      <td>POL</td>\n",
       "      <td>2002 Winter</td>\n",
       "      <td>2002</td>\n",
       "      <td>Winter</td>\n",
       "      <td>Salt Lake City</td>\n",
       "      <td>Bobsleigh</td>\n",
       "      <td>Bobsleigh Men's Four</td>\n",
       "      <td>0</td>\n",
       "      <td>Poland</td>\n",
       "      <td>0.518919</td>\n",
       "    </tr>\n",
       "  </tbody>\n",
       "</table>\n",
       "<p>270746 rows × 16 columns</p>\n",
       "</div>"
      ],
      "text/plain": [
       "                            Name Sex  Age  Height  Weight            Team  \\\n",
       "0                      A Dijiang   M   24  180.00    80.0           China   \n",
       "1                       A Lamusi   M   23  170.00    60.0           China   \n",
       "2            Gunnar Nielsen Aaby   M   24  175.34    70.7         Denmark   \n",
       "3           Edgar Lindenau Aabye   M   34  175.34    70.7  Denmark/Sweden   \n",
       "4       Christine Jacoba Aaftink   F   21  185.00    82.0     Netherlands   \n",
       "...                          ...  ..  ...     ...     ...             ...   \n",
       "271111                Andrzej ya   M   29  179.00    89.0        Poland-1   \n",
       "271112                  Piotr ya   M   27  176.00    59.0          Poland   \n",
       "271113                  Piotr ya   M   27  176.00    59.0          Poland   \n",
       "271114        Tomasz Ireneusz ya   M   30  185.00    96.0          Poland   \n",
       "271115        Tomasz Ireneusz ya   M   34  185.00    96.0          Poland   \n",
       "\n",
       "       country_abbrv        Games  Year  Season            City  \\\n",
       "0                CHN  1992 Summer  1992  Summer       Barcelona   \n",
       "1                CHN  2012 Summer  2012  Summer          London   \n",
       "2                DEN  1920 Summer  1920  Summer       Antwerpen   \n",
       "3                DEN  1900 Summer  1900  Summer           Paris   \n",
       "4                NED  1988 Winter  1988  Winter         Calgary   \n",
       "...              ...          ...   ...     ...             ...   \n",
       "271111           POL  1976 Winter  1976  Winter       Innsbruck   \n",
       "271112           POL  2014 Winter  2014  Winter           Sochi   \n",
       "271113           POL  2014 Winter  2014  Winter           Sochi   \n",
       "271114           POL  1998 Winter  1998  Winter          Nagano   \n",
       "271115           POL  2002 Winter  2002  Winter  Salt Lake City   \n",
       "\n",
       "                Sport                                     Event  Medal  \\\n",
       "0          Basketball               Basketball Men's Basketball      0   \n",
       "1                Judo              Judo Men's Extra-Lightweight      0   \n",
       "2            Football                   Football Men's Football      0   \n",
       "3          Tug-Of-War               Tug-Of-War Men's Tug-Of-War      1   \n",
       "4       Speed Skating          Speed Skating Women's 500 metres      0   \n",
       "...               ...                                       ...    ...   \n",
       "271111           Luge                Luge Mixed (Men)'s Doubles      0   \n",
       "271112    Ski Jumping  Ski Jumping Men's Large Hill, Individual      0   \n",
       "271113    Ski Jumping        Ski Jumping Men's Large Hill, Team      0   \n",
       "271114      Bobsleigh                      Bobsleigh Men's Four      0   \n",
       "271115      Bobsleigh                      Bobsleigh Men's Four      0   \n",
       "\n",
       "             region       BMI  \n",
       "0             China  0.444444  \n",
       "1             China  0.352941  \n",
       "2           Denmark  0.403217  \n",
       "3           Denmark  0.403217  \n",
       "4       Netherlands  0.443243  \n",
       "...             ...       ...  \n",
       "271111       Poland  0.497207  \n",
       "271112       Poland  0.335227  \n",
       "271113       Poland  0.335227  \n",
       "271114       Poland  0.518919  \n",
       "271115       Poland  0.518919  \n",
       "\n",
       "[270746 rows x 16 columns]"
      ]
     },
     "execution_count": 34,
     "metadata": {},
     "output_type": "execute_result"
    }
   ],
   "source": [
    "sport_df_copy"
   ]
  },
  {
   "cell_type": "code",
   "execution_count": 35,
   "id": "b2eba717",
   "metadata": {},
   "outputs": [
    {
     "data": {
      "text/plain": [
       "Name             0\n",
       "Sex              0\n",
       "Age              0\n",
       "Height           0\n",
       "Weight           0\n",
       "Team             0\n",
       "country_abbrv    0\n",
       "Games            0\n",
       "Year             0\n",
       "Season           0\n",
       "City             0\n",
       "Sport            0\n",
       "Event            0\n",
       "Medal            0\n",
       "region           0\n",
       "BMI              0\n",
       "dtype: int64"
      ]
     },
     "execution_count": 35,
     "metadata": {},
     "output_type": "execute_result"
    }
   ],
   "source": [
    "sport_df_copy.isna().sum()"
   ]
  },
  {
   "cell_type": "code",
   "execution_count": 36,
   "id": "9f9e34f4",
   "metadata": {},
   "outputs": [],
   "source": [
    "# Select the features (X) and target (y)\n",
    "features = ['Age', 'Weight', 'Height', 'BMI']\n",
    "target = 'Medal'"
   ]
  },
  {
   "cell_type": "code",
   "execution_count": 37,
   "id": "5e2cd194",
   "metadata": {},
   "outputs": [],
   "source": [
    "X = sport_df_copy[features]\n",
    "y = sport_df_copy[target]"
   ]
  },
  {
   "cell_type": "code",
   "execution_count": 38,
   "id": "7d7cb17d",
   "metadata": {},
   "outputs": [],
   "source": [
    "# Split the data into train and test sets\n",
    "X_train, X_test, y_train, y_test = train_test_split(X, y, test_size=0.3, random_state=42)"
   ]
  },
  {
   "cell_type": "code",
   "execution_count": 39,
   "id": "c401f748",
   "metadata": {},
   "outputs": [
    {
     "data": {
      "text/plain": [
       "RandomForestClassifier()"
      ]
     },
     "execution_count": 39,
     "metadata": {},
     "output_type": "execute_result"
    }
   ],
   "source": [
    "# Random FOrest\n",
    "\n",
    "model1 = RandomForestClassifier()\n",
    "model1.fit(X_train, y_train)"
   ]
  },
  {
   "cell_type": "code",
   "execution_count": 40,
   "id": "aae7e359",
   "metadata": {},
   "outputs": [
    {
     "data": {
      "text/plain": [
       "GradientBoostingClassifier()"
      ]
     },
     "execution_count": 40,
     "metadata": {},
     "output_type": "execute_result"
    }
   ],
   "source": [
    "# Gradient Boost\n",
    "\n",
    "model2 = GradientBoostingClassifier()\n",
    "model2.fit(X_train, y_train)"
   ]
  },
  {
   "cell_type": "code",
   "execution_count": 41,
   "id": "ae2fd403",
   "metadata": {},
   "outputs": [
    {
     "data": {
      "text/plain": [
       "DecisionTreeClassifier()"
      ]
     },
     "execution_count": 41,
     "metadata": {},
     "output_type": "execute_result"
    }
   ],
   "source": [
    "model3 = DecisionTreeClassifier()\n",
    "model3.fit(X_train, y_train)"
   ]
  },
  {
   "cell_type": "code",
   "execution_count": 42,
   "id": "a6e4c625",
   "metadata": {},
   "outputs": [
    {
     "data": {
      "text/plain": [
       "SVC()"
      ]
     },
     "execution_count": 42,
     "metadata": {},
     "output_type": "execute_result"
    }
   ],
   "source": [
    "model4 = SVC()\n",
    "model4.fit(X_train, y_train)"
   ]
  },
  {
   "cell_type": "code",
   "execution_count": 43,
   "id": "c270de6c",
   "metadata": {},
   "outputs": [
    {
     "data": {
      "text/plain": [
       "KNeighborsClassifier()"
      ]
     },
     "execution_count": 43,
     "metadata": {},
     "output_type": "execute_result"
    }
   ],
   "source": [
    "model5 = KNeighborsClassifier()\n",
    "model5.fit(X_train, y_train)"
   ]
  },
  {
   "cell_type": "code",
   "execution_count": 44,
   "id": "d5ceb65f",
   "metadata": {},
   "outputs": [
    {
     "name": "stderr",
     "output_type": "stream",
     "text": [
      "C:\\Users\\ancep\\anaconda3\\lib\\site-packages\\sklearn\\linear_model\\_logistic.py:814: ConvergenceWarning: lbfgs failed to converge (status=1):\n",
      "STOP: TOTAL NO. of ITERATIONS REACHED LIMIT.\n",
      "\n",
      "Increase the number of iterations (max_iter) or scale the data as shown in:\n",
      "    https://scikit-learn.org/stable/modules/preprocessing.html\n",
      "Please also refer to the documentation for alternative solver options:\n",
      "    https://scikit-learn.org/stable/modules/linear_model.html#logistic-regression\n",
      "  n_iter_i = _check_optimize_result(\n"
     ]
    },
    {
     "data": {
      "text/plain": [
       "LogisticRegression()"
      ]
     },
     "execution_count": 44,
     "metadata": {},
     "output_type": "execute_result"
    }
   ],
   "source": [
    "model6 = LogisticRegression()\n",
    "model6.fit(X_train, y_train)"
   ]
  },
  {
   "cell_type": "code",
   "execution_count": 45,
   "id": "a2adaca2",
   "metadata": {},
   "outputs": [],
   "source": [
    "y_pred1 = model1.predict(X_test)\n",
    "y_pred2 = model2.predict(X_test)"
   ]
  },
  {
   "cell_type": "code",
   "execution_count": 46,
   "id": "0a63687e",
   "metadata": {},
   "outputs": [
    {
     "name": "stdout",
     "output_type": "stream",
     "text": [
      "Accuracy of Random Forest: 84.04%\n",
      "Accuracy of GraientBoost: 85.38%\n"
     ]
    }
   ],
   "source": [
    "# Evaluate the model's performance\n",
    "\n",
    "accuracy1 = accuracy_score(y_test, y_pred1)\n",
    "accuracy2 = accuracy_score(y_test, y_pred2)\n",
    "print(f'Accuracy of Random Forest: {accuracy1*100:.2f}%')\n",
    "print(f'Accuracy of GraientBoost: {accuracy2*100:.2f}%')"
   ]
  },
  {
   "cell_type": "code",
   "execution_count": 48,
   "id": "700fabc4",
   "metadata": {},
   "outputs": [
    {
     "name": "stdout",
     "output_type": "stream",
     "text": [
      "Mean Squared Error: 0.6806608884073673\n",
      "Mean Absolute Error: 0.2920319117502216\n",
      "R-squared: -0.14316433047413368\n"
     ]
    }
   ],
   "source": [
    "# Calculate Mean Squared Error (MSE)\n",
    "mse = mean_squared_error(y_test, y_pred2)\n",
    "# Calculate Mean Absolute Error (MAE)\n",
    "mae = mean_absolute_error(y_test, y_pred2)\n",
    "# Calculate R-squared (coefficient of determination)\n",
    "r2 = r2_score(y_test, y_pred2)\n",
    "print(\"Mean Squared Error:\", mse)\n",
    "\n",
    "print(\"Mean Absolute Error:\", mae)\n",
    "print(\"R-squared:\", r2)\n"
   ]
  },
  {
   "cell_type": "code",
   "execution_count": 49,
   "id": "ac5515a1",
   "metadata": {},
   "outputs": [],
   "source": [
    "model3_pred = model3.predict(X_test)\n",
    "model3_accuracy = accuracy_score(y_test, model3_pred)\n",
    "model3_precision = precision_score(y_test, model3_pred, average='weighted')\n",
    "model3_recall = recall_score(y_test, model3_pred, average='weighted')\n",
    "model3_cm = confusion_matrix(y_test, model3_pred)"
   ]
  },
  {
   "cell_type": "code",
   "execution_count": 50,
   "id": "e09adc50",
   "metadata": {},
   "outputs": [],
   "source": [
    "model2_pred = model2.predict(X_test)\n",
    "model2_accuracy = accuracy_score(y_test, model2_pred)\n",
    "model2_precision = precision_score(y_test, model2_pred, average='weighted')\n",
    "model2_recall = recall_score(y_test, model2_pred, average='weighted')\n",
    "model2_cm = confusion_matrix(y_test, model2_pred)"
   ]
  },
  {
   "cell_type": "code",
   "execution_count": 51,
   "id": "6823085e",
   "metadata": {},
   "outputs": [
    {
     "name": "stderr",
     "output_type": "stream",
     "text": [
      "C:\\Users\\ancep\\anaconda3\\lib\\site-packages\\sklearn\\metrics\\_classification.py:1318: UndefinedMetricWarning: Precision is ill-defined and being set to 0.0 in labels with no predicted samples. Use `zero_division` parameter to control this behavior.\n",
      "  _warn_prf(average, modifier, msg_start, len(result))\n"
     ]
    }
   ],
   "source": [
    "model4_pred = model4.predict(X_test)\n",
    "model4_accuracy = accuracy_score(y_test, model4_pred)\n",
    "model4_precision = precision_score(y_test, model4_pred, average='weighted')\n",
    "model4_recall = recall_score(y_test, model4_pred, average='weighted')\n",
    "model4_cm = confusion_matrix(y_test, model4_pred)"
   ]
  },
  {
   "cell_type": "code",
   "execution_count": 52,
   "id": "894bc093",
   "metadata": {},
   "outputs": [
    {
     "name": "stderr",
     "output_type": "stream",
     "text": [
      "C:\\Users\\ancep\\anaconda3\\lib\\site-packages\\sklearn\\neighbors\\_classification.py:228: FutureWarning: Unlike other reduction functions (e.g. `skew`, `kurtosis`), the default behavior of `mode` typically preserves the axis it acts along. In SciPy 1.11.0, this behavior will change: the default value of `keepdims` will become False, the `axis` over which the statistic is taken will be eliminated, and the value None will no longer be accepted. Set `keepdims` to True or False to avoid this warning.\n",
      "  mode, _ = stats.mode(_y[neigh_ind, k], axis=1)\n"
     ]
    }
   ],
   "source": [
    "model5_pred = model5.predict(X_test)\n",
    "model5_accuracy = accuracy_score(y_test, model5_pred)\n",
    "model5_precision = precision_score(y_test, model5_pred, average='weighted')\n",
    "model5_recall = recall_score(y_test, model5_pred, average='weighted')\n",
    "model5_cm = confusion_matrix(y_test, model5_pred)\n"
   ]
  },
  {
   "cell_type": "code",
   "execution_count": 53,
   "id": "408054cd",
   "metadata": {},
   "outputs": [
    {
     "name": "stderr",
     "output_type": "stream",
     "text": [
      "C:\\Users\\ancep\\anaconda3\\lib\\site-packages\\sklearn\\metrics\\_classification.py:1318: UndefinedMetricWarning: Precision is ill-defined and being set to 0.0 in labels with no predicted samples. Use `zero_division` parameter to control this behavior.\n",
      "  _warn_prf(average, modifier, msg_start, len(result))\n"
     ]
    }
   ],
   "source": [
    "model6_pred = model6.predict(X_test)\n",
    "model6_accuracy = accuracy_score(y_test, model6_pred)\n",
    "model6_precision = precision_score(y_test, model6_pred, average='weighted')\n",
    "model6_recall = recall_score(y_test, model6_pred, average='weighted')\n",
    "model6_cm = confusion_matrix(y_test, model6_pred)"
   ]
  },
  {
   "cell_type": "code",
   "execution_count": 54,
   "id": "708deeb1",
   "metadata": {},
   "outputs": [
    {
     "name": "stdout",
     "output_type": "stream",
     "text": [
      "Decision Trees:\n",
      "Accuracy: 0.8381020388062641\n",
      "Precision: 0.744840945413784\n",
      "Recall: 0.8381020388062641\n",
      "Confusion Matrix:\n",
      "[[67886   529   467   464]\n",
      " [ 3776    94    62    40]\n",
      " [ 3792    76    57    42]\n",
      " [ 3817    51    34    37]]\n",
      "Random Forests:\n",
      "Accuracy: 0.8537870580124102\n",
      "Precision: 0.744840945413784\n",
      "Recall: 0.8381020388062641\n",
      "Confusion Matrix:\n",
      "[[67886   529   467   464]\n",
      " [ 3776    94    62    40]\n",
      " [ 3792    76    57    42]\n",
      " [ 3817    51    34    37]]\n"
     ]
    }
   ],
   "source": [
    "# Print evaluation metrics and confusion matrix for each model\n",
    "print(\"Decision Trees:\")\n",
    "print(\"Accuracy:\", model3_accuracy)\n",
    "print(\"Precision:\", model3_precision)\n",
    "print(\"Recall:\", model3_recall)\n",
    "print(\"Confusion Matrix:\")\n",
    "print(model3_cm)\n",
    "\n",
    "print(\"Random Forests:\")\n",
    "print(\"Accuracy:\", model2_accuracy)\n",
    "print(\"Precision:\", model3_precision)\n",
    "print(\"Recall:\", model3_recall)\n",
    "print(\"Confusion Matrix:\")\n",
    "print(model3_cm)\n",
    "# Similarly, you can print the evaluation metrics for SVM, KNN, and Logistic Regression models."
   ]
  },
  {
   "cell_type": "code",
   "execution_count": null,
   "id": "c4aff3a3",
   "metadata": {},
   "outputs": [],
   "source": []
  }
 ],
 "metadata": {
  "kernelspec": {
   "display_name": "Python 3 (ipykernel)",
   "language": "python",
   "name": "python3"
  },
  "language_info": {
   "codemirror_mode": {
    "name": "ipython",
    "version": 3
   },
   "file_extension": ".py",
   "mimetype": "text/x-python",
   "name": "python",
   "nbconvert_exporter": "python",
   "pygments_lexer": "ipython3",
   "version": "3.9.13"
  }
 },
 "nbformat": 4,
 "nbformat_minor": 5
}
